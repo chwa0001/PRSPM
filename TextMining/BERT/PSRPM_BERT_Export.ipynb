{
  "nbformat": 4,
  "nbformat_minor": 0,
  "metadata": {
    "accelerator": "GPU",
    "colab": {
      "name": "PSRPM_BERT_Export.ipynb",
      "provenance": [],
      "collapsed_sections": []
    },
    "kernelspec": {
      "display_name": "Python 3",
      "name": "python3"
    },
    "language_info": {
      "name": "python"
    },
    "widgets": {
      "application/vnd.jupyter.widget-state+json": {
        "7b1753a4aeaa458089cb56380372cfd3": {
          "model_module": "@jupyter-widgets/controls",
          "model_name": "HBoxModel",
          "model_module_version": "1.5.0",
          "state": {
            "_view_name": "HBoxView",
            "_dom_classes": [],
            "_model_name": "HBoxModel",
            "_view_module": "@jupyter-widgets/controls",
            "_model_module_version": "1.5.0",
            "_view_count": null,
            "_view_module_version": "1.5.0",
            "box_style": "",
            "layout": "IPY_MODEL_28826b88cb0241cf8cca3ae7f3131669",
            "_model_module": "@jupyter-widgets/controls",
            "children": [
              "IPY_MODEL_bcd4aaa85276499395e8b362cd06e095",
              "IPY_MODEL_9484e9764b1c429898c51b6248d1e14f",
              "IPY_MODEL_49d421e1368d4c8e9f45161359f28891"
            ]
          }
        },
        "28826b88cb0241cf8cca3ae7f3131669": {
          "model_module": "@jupyter-widgets/base",
          "model_name": "LayoutModel",
          "model_module_version": "1.2.0",
          "state": {
            "_view_name": "LayoutView",
            "grid_template_rows": null,
            "right": null,
            "justify_content": null,
            "_view_module": "@jupyter-widgets/base",
            "overflow": null,
            "_model_module_version": "1.2.0",
            "_view_count": null,
            "flex_flow": null,
            "width": null,
            "min_width": null,
            "border": null,
            "align_items": null,
            "bottom": null,
            "_model_module": "@jupyter-widgets/base",
            "top": null,
            "grid_column": null,
            "overflow_y": null,
            "overflow_x": null,
            "grid_auto_flow": null,
            "grid_area": null,
            "grid_template_columns": null,
            "flex": null,
            "_model_name": "LayoutModel",
            "justify_items": null,
            "grid_row": null,
            "max_height": null,
            "align_content": null,
            "visibility": null,
            "align_self": null,
            "height": null,
            "min_height": null,
            "padding": null,
            "grid_auto_rows": null,
            "grid_gap": null,
            "max_width": null,
            "order": null,
            "_view_module_version": "1.2.0",
            "grid_template_areas": null,
            "object_position": null,
            "object_fit": null,
            "grid_auto_columns": null,
            "margin": null,
            "display": null,
            "left": null
          }
        },
        "bcd4aaa85276499395e8b362cd06e095": {
          "model_module": "@jupyter-widgets/controls",
          "model_name": "HTMLModel",
          "model_module_version": "1.5.0",
          "state": {
            "_view_name": "HTMLView",
            "style": "IPY_MODEL_8ca6f191bad747d492c4126ef8f92028",
            "_dom_classes": [],
            "description": "",
            "_model_name": "HTMLModel",
            "placeholder": "​",
            "_view_module": "@jupyter-widgets/controls",
            "_model_module_version": "1.5.0",
            "value": "Downloading: 100%",
            "_view_count": null,
            "_view_module_version": "1.5.0",
            "description_tooltip": null,
            "_model_module": "@jupyter-widgets/controls",
            "layout": "IPY_MODEL_44123c63c9ab4f29aafbefc89f029d43"
          }
        },
        "9484e9764b1c429898c51b6248d1e14f": {
          "model_module": "@jupyter-widgets/controls",
          "model_name": "FloatProgressModel",
          "model_module_version": "1.5.0",
          "state": {
            "_view_name": "ProgressView",
            "style": "IPY_MODEL_c5e7ba6378a24fc2b5d2541cca0dbb48",
            "_dom_classes": [],
            "description": "",
            "_model_name": "FloatProgressModel",
            "bar_style": "success",
            "max": 570,
            "_view_module": "@jupyter-widgets/controls",
            "_model_module_version": "1.5.0",
            "value": 570,
            "_view_count": null,
            "_view_module_version": "1.5.0",
            "orientation": "horizontal",
            "min": 0,
            "description_tooltip": null,
            "_model_module": "@jupyter-widgets/controls",
            "layout": "IPY_MODEL_27ac49dfcd2543549c58e3840311592b"
          }
        },
        "49d421e1368d4c8e9f45161359f28891": {
          "model_module": "@jupyter-widgets/controls",
          "model_name": "HTMLModel",
          "model_module_version": "1.5.0",
          "state": {
            "_view_name": "HTMLView",
            "style": "IPY_MODEL_a79f3f661d98445ea5cfc2898f5c92ff",
            "_dom_classes": [],
            "description": "",
            "_model_name": "HTMLModel",
            "placeholder": "​",
            "_view_module": "@jupyter-widgets/controls",
            "_model_module_version": "1.5.0",
            "value": " 570/570 [00:00&lt;00:00, 9.93kB/s]",
            "_view_count": null,
            "_view_module_version": "1.5.0",
            "description_tooltip": null,
            "_model_module": "@jupyter-widgets/controls",
            "layout": "IPY_MODEL_3f85c31bdd284f8398381d029c838b8e"
          }
        },
        "8ca6f191bad747d492c4126ef8f92028": {
          "model_module": "@jupyter-widgets/controls",
          "model_name": "DescriptionStyleModel",
          "model_module_version": "1.5.0",
          "state": {
            "_view_name": "StyleView",
            "_model_name": "DescriptionStyleModel",
            "description_width": "",
            "_view_module": "@jupyter-widgets/base",
            "_model_module_version": "1.5.0",
            "_view_count": null,
            "_view_module_version": "1.2.0",
            "_model_module": "@jupyter-widgets/controls"
          }
        },
        "44123c63c9ab4f29aafbefc89f029d43": {
          "model_module": "@jupyter-widgets/base",
          "model_name": "LayoutModel",
          "model_module_version": "1.2.0",
          "state": {
            "_view_name": "LayoutView",
            "grid_template_rows": null,
            "right": null,
            "justify_content": null,
            "_view_module": "@jupyter-widgets/base",
            "overflow": null,
            "_model_module_version": "1.2.0",
            "_view_count": null,
            "flex_flow": null,
            "width": null,
            "min_width": null,
            "border": null,
            "align_items": null,
            "bottom": null,
            "_model_module": "@jupyter-widgets/base",
            "top": null,
            "grid_column": null,
            "overflow_y": null,
            "overflow_x": null,
            "grid_auto_flow": null,
            "grid_area": null,
            "grid_template_columns": null,
            "flex": null,
            "_model_name": "LayoutModel",
            "justify_items": null,
            "grid_row": null,
            "max_height": null,
            "align_content": null,
            "visibility": null,
            "align_self": null,
            "height": null,
            "min_height": null,
            "padding": null,
            "grid_auto_rows": null,
            "grid_gap": null,
            "max_width": null,
            "order": null,
            "_view_module_version": "1.2.0",
            "grid_template_areas": null,
            "object_position": null,
            "object_fit": null,
            "grid_auto_columns": null,
            "margin": null,
            "display": null,
            "left": null
          }
        },
        "c5e7ba6378a24fc2b5d2541cca0dbb48": {
          "model_module": "@jupyter-widgets/controls",
          "model_name": "ProgressStyleModel",
          "model_module_version": "1.5.0",
          "state": {
            "_view_name": "StyleView",
            "_model_name": "ProgressStyleModel",
            "description_width": "",
            "_view_module": "@jupyter-widgets/base",
            "_model_module_version": "1.5.0",
            "_view_count": null,
            "_view_module_version": "1.2.0",
            "bar_color": null,
            "_model_module": "@jupyter-widgets/controls"
          }
        },
        "27ac49dfcd2543549c58e3840311592b": {
          "model_module": "@jupyter-widgets/base",
          "model_name": "LayoutModel",
          "model_module_version": "1.2.0",
          "state": {
            "_view_name": "LayoutView",
            "grid_template_rows": null,
            "right": null,
            "justify_content": null,
            "_view_module": "@jupyter-widgets/base",
            "overflow": null,
            "_model_module_version": "1.2.0",
            "_view_count": null,
            "flex_flow": null,
            "width": null,
            "min_width": null,
            "border": null,
            "align_items": null,
            "bottom": null,
            "_model_module": "@jupyter-widgets/base",
            "top": null,
            "grid_column": null,
            "overflow_y": null,
            "overflow_x": null,
            "grid_auto_flow": null,
            "grid_area": null,
            "grid_template_columns": null,
            "flex": null,
            "_model_name": "LayoutModel",
            "justify_items": null,
            "grid_row": null,
            "max_height": null,
            "align_content": null,
            "visibility": null,
            "align_self": null,
            "height": null,
            "min_height": null,
            "padding": null,
            "grid_auto_rows": null,
            "grid_gap": null,
            "max_width": null,
            "order": null,
            "_view_module_version": "1.2.0",
            "grid_template_areas": null,
            "object_position": null,
            "object_fit": null,
            "grid_auto_columns": null,
            "margin": null,
            "display": null,
            "left": null
          }
        },
        "a79f3f661d98445ea5cfc2898f5c92ff": {
          "model_module": "@jupyter-widgets/controls",
          "model_name": "DescriptionStyleModel",
          "model_module_version": "1.5.0",
          "state": {
            "_view_name": "StyleView",
            "_model_name": "DescriptionStyleModel",
            "description_width": "",
            "_view_module": "@jupyter-widgets/base",
            "_model_module_version": "1.5.0",
            "_view_count": null,
            "_view_module_version": "1.2.0",
            "_model_module": "@jupyter-widgets/controls"
          }
        },
        "3f85c31bdd284f8398381d029c838b8e": {
          "model_module": "@jupyter-widgets/base",
          "model_name": "LayoutModel",
          "model_module_version": "1.2.0",
          "state": {
            "_view_name": "LayoutView",
            "grid_template_rows": null,
            "right": null,
            "justify_content": null,
            "_view_module": "@jupyter-widgets/base",
            "overflow": null,
            "_model_module_version": "1.2.0",
            "_view_count": null,
            "flex_flow": null,
            "width": null,
            "min_width": null,
            "border": null,
            "align_items": null,
            "bottom": null,
            "_model_module": "@jupyter-widgets/base",
            "top": null,
            "grid_column": null,
            "overflow_y": null,
            "overflow_x": null,
            "grid_auto_flow": null,
            "grid_area": null,
            "grid_template_columns": null,
            "flex": null,
            "_model_name": "LayoutModel",
            "justify_items": null,
            "grid_row": null,
            "max_height": null,
            "align_content": null,
            "visibility": null,
            "align_self": null,
            "height": null,
            "min_height": null,
            "padding": null,
            "grid_auto_rows": null,
            "grid_gap": null,
            "max_width": null,
            "order": null,
            "_view_module_version": "1.2.0",
            "grid_template_areas": null,
            "object_position": null,
            "object_fit": null,
            "grid_auto_columns": null,
            "margin": null,
            "display": null,
            "left": null
          }
        },
        "ce6c2ad1ab0d4e4c9c69413c1fa589ef": {
          "model_module": "@jupyter-widgets/controls",
          "model_name": "HBoxModel",
          "model_module_version": "1.5.0",
          "state": {
            "_view_name": "HBoxView",
            "_dom_classes": [],
            "_model_name": "HBoxModel",
            "_view_module": "@jupyter-widgets/controls",
            "_model_module_version": "1.5.0",
            "_view_count": null,
            "_view_module_version": "1.5.0",
            "box_style": "",
            "layout": "IPY_MODEL_c492a3e713914d548990dd309367dfc4",
            "_model_module": "@jupyter-widgets/controls",
            "children": [
              "IPY_MODEL_3aabad50bf7b4485bafe278f4b971610",
              "IPY_MODEL_972554ae890f485fb22c8078ed7dd2b0",
              "IPY_MODEL_24d581be16314177b7ce9bf21030fe4d"
            ]
          }
        },
        "c492a3e713914d548990dd309367dfc4": {
          "model_module": "@jupyter-widgets/base",
          "model_name": "LayoutModel",
          "model_module_version": "1.2.0",
          "state": {
            "_view_name": "LayoutView",
            "grid_template_rows": null,
            "right": null,
            "justify_content": null,
            "_view_module": "@jupyter-widgets/base",
            "overflow": null,
            "_model_module_version": "1.2.0",
            "_view_count": null,
            "flex_flow": null,
            "width": null,
            "min_width": null,
            "border": null,
            "align_items": null,
            "bottom": null,
            "_model_module": "@jupyter-widgets/base",
            "top": null,
            "grid_column": null,
            "overflow_y": null,
            "overflow_x": null,
            "grid_auto_flow": null,
            "grid_area": null,
            "grid_template_columns": null,
            "flex": null,
            "_model_name": "LayoutModel",
            "justify_items": null,
            "grid_row": null,
            "max_height": null,
            "align_content": null,
            "visibility": null,
            "align_self": null,
            "height": null,
            "min_height": null,
            "padding": null,
            "grid_auto_rows": null,
            "grid_gap": null,
            "max_width": null,
            "order": null,
            "_view_module_version": "1.2.0",
            "grid_template_areas": null,
            "object_position": null,
            "object_fit": null,
            "grid_auto_columns": null,
            "margin": null,
            "display": null,
            "left": null
          }
        },
        "3aabad50bf7b4485bafe278f4b971610": {
          "model_module": "@jupyter-widgets/controls",
          "model_name": "HTMLModel",
          "model_module_version": "1.5.0",
          "state": {
            "_view_name": "HTMLView",
            "style": "IPY_MODEL_13da401311324860b2f3f14fdbc0a2a2",
            "_dom_classes": [],
            "description": "",
            "_model_name": "HTMLModel",
            "placeholder": "​",
            "_view_module": "@jupyter-widgets/controls",
            "_model_module_version": "1.5.0",
            "value": "Downloading: 100%",
            "_view_count": null,
            "_view_module_version": "1.5.0",
            "description_tooltip": null,
            "_model_module": "@jupyter-widgets/controls",
            "layout": "IPY_MODEL_5e3832af0c854830bd7dfc9f1b3757e8"
          }
        },
        "972554ae890f485fb22c8078ed7dd2b0": {
          "model_module": "@jupyter-widgets/controls",
          "model_name": "FloatProgressModel",
          "model_module_version": "1.5.0",
          "state": {
            "_view_name": "ProgressView",
            "style": "IPY_MODEL_e46ed70a86c74926b93f06cb744bd8b4",
            "_dom_classes": [],
            "description": "",
            "_model_name": "FloatProgressModel",
            "bar_style": "success",
            "max": 536063208,
            "_view_module": "@jupyter-widgets/controls",
            "_model_module_version": "1.5.0",
            "value": 536063208,
            "_view_count": null,
            "_view_module_version": "1.5.0",
            "orientation": "horizontal",
            "min": 0,
            "description_tooltip": null,
            "_model_module": "@jupyter-widgets/controls",
            "layout": "IPY_MODEL_e48a512be45f4887b6049f223a17fa3a"
          }
        },
        "24d581be16314177b7ce9bf21030fe4d": {
          "model_module": "@jupyter-widgets/controls",
          "model_name": "HTMLModel",
          "model_module_version": "1.5.0",
          "state": {
            "_view_name": "HTMLView",
            "style": "IPY_MODEL_0eecb925146742139be5157393df0d95",
            "_dom_classes": [],
            "description": "",
            "_model_name": "HTMLModel",
            "placeholder": "​",
            "_view_module": "@jupyter-widgets/controls",
            "_model_module_version": "1.5.0",
            "value": " 511M/511M [00:17&lt;00:00, 32.1MB/s]",
            "_view_count": null,
            "_view_module_version": "1.5.0",
            "description_tooltip": null,
            "_model_module": "@jupyter-widgets/controls",
            "layout": "IPY_MODEL_165370874bc8438aab35b68117fc3188"
          }
        },
        "13da401311324860b2f3f14fdbc0a2a2": {
          "model_module": "@jupyter-widgets/controls",
          "model_name": "DescriptionStyleModel",
          "model_module_version": "1.5.0",
          "state": {
            "_view_name": "StyleView",
            "_model_name": "DescriptionStyleModel",
            "description_width": "",
            "_view_module": "@jupyter-widgets/base",
            "_model_module_version": "1.5.0",
            "_view_count": null,
            "_view_module_version": "1.2.0",
            "_model_module": "@jupyter-widgets/controls"
          }
        },
        "5e3832af0c854830bd7dfc9f1b3757e8": {
          "model_module": "@jupyter-widgets/base",
          "model_name": "LayoutModel",
          "model_module_version": "1.2.0",
          "state": {
            "_view_name": "LayoutView",
            "grid_template_rows": null,
            "right": null,
            "justify_content": null,
            "_view_module": "@jupyter-widgets/base",
            "overflow": null,
            "_model_module_version": "1.2.0",
            "_view_count": null,
            "flex_flow": null,
            "width": null,
            "min_width": null,
            "border": null,
            "align_items": null,
            "bottom": null,
            "_model_module": "@jupyter-widgets/base",
            "top": null,
            "grid_column": null,
            "overflow_y": null,
            "overflow_x": null,
            "grid_auto_flow": null,
            "grid_area": null,
            "grid_template_columns": null,
            "flex": null,
            "_model_name": "LayoutModel",
            "justify_items": null,
            "grid_row": null,
            "max_height": null,
            "align_content": null,
            "visibility": null,
            "align_self": null,
            "height": null,
            "min_height": null,
            "padding": null,
            "grid_auto_rows": null,
            "grid_gap": null,
            "max_width": null,
            "order": null,
            "_view_module_version": "1.2.0",
            "grid_template_areas": null,
            "object_position": null,
            "object_fit": null,
            "grid_auto_columns": null,
            "margin": null,
            "display": null,
            "left": null
          }
        },
        "e46ed70a86c74926b93f06cb744bd8b4": {
          "model_module": "@jupyter-widgets/controls",
          "model_name": "ProgressStyleModel",
          "model_module_version": "1.5.0",
          "state": {
            "_view_name": "StyleView",
            "_model_name": "ProgressStyleModel",
            "description_width": "",
            "_view_module": "@jupyter-widgets/base",
            "_model_module_version": "1.5.0",
            "_view_count": null,
            "_view_module_version": "1.2.0",
            "bar_color": null,
            "_model_module": "@jupyter-widgets/controls"
          }
        },
        "e48a512be45f4887b6049f223a17fa3a": {
          "model_module": "@jupyter-widgets/base",
          "model_name": "LayoutModel",
          "model_module_version": "1.2.0",
          "state": {
            "_view_name": "LayoutView",
            "grid_template_rows": null,
            "right": null,
            "justify_content": null,
            "_view_module": "@jupyter-widgets/base",
            "overflow": null,
            "_model_module_version": "1.2.0",
            "_view_count": null,
            "flex_flow": null,
            "width": null,
            "min_width": null,
            "border": null,
            "align_items": null,
            "bottom": null,
            "_model_module": "@jupyter-widgets/base",
            "top": null,
            "grid_column": null,
            "overflow_y": null,
            "overflow_x": null,
            "grid_auto_flow": null,
            "grid_area": null,
            "grid_template_columns": null,
            "flex": null,
            "_model_name": "LayoutModel",
            "justify_items": null,
            "grid_row": null,
            "max_height": null,
            "align_content": null,
            "visibility": null,
            "align_self": null,
            "height": null,
            "min_height": null,
            "padding": null,
            "grid_auto_rows": null,
            "grid_gap": null,
            "max_width": null,
            "order": null,
            "_view_module_version": "1.2.0",
            "grid_template_areas": null,
            "object_position": null,
            "object_fit": null,
            "grid_auto_columns": null,
            "margin": null,
            "display": null,
            "left": null
          }
        },
        "0eecb925146742139be5157393df0d95": {
          "model_module": "@jupyter-widgets/controls",
          "model_name": "DescriptionStyleModel",
          "model_module_version": "1.5.0",
          "state": {
            "_view_name": "StyleView",
            "_model_name": "DescriptionStyleModel",
            "description_width": "",
            "_view_module": "@jupyter-widgets/base",
            "_model_module_version": "1.5.0",
            "_view_count": null,
            "_view_module_version": "1.2.0",
            "_model_module": "@jupyter-widgets/controls"
          }
        },
        "165370874bc8438aab35b68117fc3188": {
          "model_module": "@jupyter-widgets/base",
          "model_name": "LayoutModel",
          "model_module_version": "1.2.0",
          "state": {
            "_view_name": "LayoutView",
            "grid_template_rows": null,
            "right": null,
            "justify_content": null,
            "_view_module": "@jupyter-widgets/base",
            "overflow": null,
            "_model_module_version": "1.2.0",
            "_view_count": null,
            "flex_flow": null,
            "width": null,
            "min_width": null,
            "border": null,
            "align_items": null,
            "bottom": null,
            "_model_module": "@jupyter-widgets/base",
            "top": null,
            "grid_column": null,
            "overflow_y": null,
            "overflow_x": null,
            "grid_auto_flow": null,
            "grid_area": null,
            "grid_template_columns": null,
            "flex": null,
            "_model_name": "LayoutModel",
            "justify_items": null,
            "grid_row": null,
            "max_height": null,
            "align_content": null,
            "visibility": null,
            "align_self": null,
            "height": null,
            "min_height": null,
            "padding": null,
            "grid_auto_rows": null,
            "grid_gap": null,
            "max_width": null,
            "order": null,
            "_view_module_version": "1.2.0",
            "grid_template_areas": null,
            "object_position": null,
            "object_fit": null,
            "grid_auto_columns": null,
            "margin": null,
            "display": null,
            "left": null
          }
        }
      }
    }
  },
  "cells": [
    {
      "cell_type": "code",
      "metadata": {
        "colab": {
          "base_uri": "https://localhost:8080/"
        },
        "id": "Q_uGasUMMboB",
        "outputId": "4e643766-e76d-43e3-a745-afc53cf49791"
      },
      "source": [
        "from google.colab import drive\n",
        "drive.mount('/content/drive')\n",
        "\n",
        "# Change working directory to be current folder\n",
        "import os\n",
        "os.chdir('/content/drive/MyDrive/coviddata')\n",
        "!ls"
      ],
      "execution_count": 1,
      "outputs": [
        {
          "output_type": "stream",
          "name": "stdout",
          "text": [
            "Drive already mounted at /content/drive; to attempt to forcibly remount, call drive.mount(\"/content/drive\", force_remount=True).\n",
            " 2020VAERSDATA.csv\n",
            " 2020VAERSSYMPTOMS.csv\n",
            " 2020VAERSVAX.csv\n",
            " 2021VAERSDATA.csv\n",
            " 2021VAERSSYMPTOMS.csv\n",
            " 2021VAERSVAX.csv\n",
            " bert_model.h5\n",
            " BERT_pr.PNG\n",
            " BERT_roc_multi.PNG\n",
            " BERT_roc.png\n",
            " bert_symptom_weights.h5\n",
            " classes_41.txt\n",
            " classes.txt\n",
            " corrected_hospitalized_symptoms_clean_20.csv\n",
            " corrected_non_hospitalized_symptoms_clean_20.csv\n",
            " corrected_symptoms_clean_41.csv\n",
            "'COVID-SVM-Hospitalised Prediction.ipynb'\n",
            " data_complete2.csv\n",
            " data_complete2r.csv\n",
            " data_complete.csv\n",
            " hospitalized_classes.txt\n",
            " hospitalized_symptoms_clean_20.csv\n",
            " hospitalized_symptoms_clean.csv\n",
            " hospitalized_symptoms_counts_20.txt\n",
            " hospitalized_symptoms_counts.csv\n",
            " non_hospitalized_symptoms_clean_20.csv\n",
            " non_hospitalized_symptoms_clean.csv\n",
            " non_hospitalized_symptoms_counts_20.txt\n",
            " non_hospitalized_symptoms_counts.csv\n",
            " nonzero_hospital_21.csv\n",
            " nonzero_non_hospital_20.csv\n",
            " predictions.txt\n",
            "'PRSPM BERT Symptom Multi-class Prediction.docx'\n",
            "'PRSPM Symptom Classifier'\n",
            " PSRPM_BERT_Export2.ipynb\n",
            " PSRPM_BERT_Export.ipynb\n",
            " PSRPM_BERT.ipynb\n",
            " PSRPM_BERTv2.ipynb\n",
            " PSRPM_BERTv3.ipynb\n",
            " PSRPM_BERTv5.ipynb\n",
            " PSRPM_TextAnalysis_TIF.ipynb\n",
            " PSRPM_WordVec_CNN.ipynb\n",
            " symptoms_clean_100.csv\n",
            " symptoms_clean_41.csv\n",
            " symptoms_clean.csv\n",
            " symptoms_counts_100.csv\n",
            " symptoms_counts.csv\n",
            "'Symptoms processing.ipynb'\n",
            " tokenizer.pkl\n",
            " X_test.pkl\n",
            " X_train.pkl\n",
            " X_val.pkl\n",
            " zero_hospital_21.csv\n"
          ]
        }
      ]
    },
    {
      "cell_type": "markdown",
      "metadata": {
        "id": "otk61oufsBqQ"
      },
      "source": [
        "# Import libraries"
      ]
    },
    {
      "cell_type": "code",
      "metadata": {
        "colab": {
          "base_uri": "https://localhost:8080/"
        },
        "id": "hnVD4E_fr7iq",
        "outputId": "05d8190a-d619-43b4-cc05-5afee45c0cfe"
      },
      "source": [
        "import matplotlib\n",
        "import sklearn\n",
        "import numpy as np\n",
        "import pandas as pd\n",
        "import sklearn.metrics as metrics\n",
        "import matplotlib.pyplot as plt\n",
        "import tensorflow as tf\n",
        "import os\n",
        "\n",
        "print(\"Versions of key libraries\")\n",
        "print(\"---\")\n",
        "print(\"tensorflow: \", tf.__version__)\n",
        "print(\"numpy:      \", np.__version__)\n",
        "print(\"matplotlib: \", matplotlib.__version__)\n",
        "print(\"sklearn:    \", sklearn.__version__)"
      ],
      "execution_count": 2,
      "outputs": [
        {
          "output_type": "stream",
          "name": "stdout",
          "text": [
            "Versions of key libraries\n",
            "---\n",
            "tensorflow:  2.7.0\n",
            "numpy:       1.19.5\n",
            "matplotlib:  3.2.2\n",
            "sklearn:     0.22.2.post1\n"
          ]
        }
      ]
    },
    {
      "cell_type": "code",
      "metadata": {
        "colab": {
          "base_uri": "https://localhost:8080/"
        },
        "id": "EZkzLtevOZqL",
        "outputId": "4aae2224-7ab7-4dbc-d984-01a546d31635"
      },
      "source": [
        "pip install transformers"
      ],
      "execution_count": 3,
      "outputs": [
        {
          "output_type": "stream",
          "name": "stdout",
          "text": [
            "Collecting transformers\n",
            "  Downloading transformers-4.12.3-py3-none-any.whl (3.1 MB)\n",
            "\u001b[K     |████████████████████████████████| 3.1 MB 5.3 MB/s \n",
            "\u001b[?25hCollecting sacremoses\n",
            "  Downloading sacremoses-0.0.46-py3-none-any.whl (895 kB)\n",
            "\u001b[K     |████████████████████████████████| 895 kB 28.5 MB/s \n",
            "\u001b[?25hRequirement already satisfied: packaging>=20.0 in /usr/local/lib/python3.7/dist-packages (from transformers) (21.2)\n",
            "Requirement already satisfied: filelock in /usr/local/lib/python3.7/dist-packages (from transformers) (3.3.2)\n",
            "Collecting huggingface-hub<1.0,>=0.1.0\n",
            "  Downloading huggingface_hub-0.1.2-py3-none-any.whl (59 kB)\n",
            "\u001b[K     |████████████████████████████████| 59 kB 5.9 MB/s \n",
            "\u001b[?25hRequirement already satisfied: numpy>=1.17 in /usr/local/lib/python3.7/dist-packages (from transformers) (1.19.5)\n",
            "Requirement already satisfied: requests in /usr/local/lib/python3.7/dist-packages (from transformers) (2.23.0)\n",
            "Collecting tokenizers<0.11,>=0.10.1\n",
            "  Downloading tokenizers-0.10.3-cp37-cp37m-manylinux_2_5_x86_64.manylinux1_x86_64.manylinux_2_12_x86_64.manylinux2010_x86_64.whl (3.3 MB)\n",
            "\u001b[K     |████████████████████████████████| 3.3 MB 36.4 MB/s \n",
            "\u001b[?25hRequirement already satisfied: importlib-metadata in /usr/local/lib/python3.7/dist-packages (from transformers) (4.8.1)\n",
            "Collecting pyyaml>=5.1\n",
            "  Downloading PyYAML-6.0-cp37-cp37m-manylinux_2_5_x86_64.manylinux1_x86_64.manylinux_2_12_x86_64.manylinux2010_x86_64.whl (596 kB)\n",
            "\u001b[K     |████████████████████████████████| 596 kB 40.9 MB/s \n",
            "\u001b[?25hRequirement already satisfied: tqdm>=4.27 in /usr/local/lib/python3.7/dist-packages (from transformers) (4.62.3)\n",
            "Requirement already satisfied: regex!=2019.12.17 in /usr/local/lib/python3.7/dist-packages (from transformers) (2019.12.20)\n",
            "Requirement already satisfied: typing-extensions>=3.7.4.3 in /usr/local/lib/python3.7/dist-packages (from huggingface-hub<1.0,>=0.1.0->transformers) (3.10.0.2)\n",
            "Requirement already satisfied: pyparsing<3,>=2.0.2 in /usr/local/lib/python3.7/dist-packages (from packaging>=20.0->transformers) (2.4.7)\n",
            "Requirement already satisfied: zipp>=0.5 in /usr/local/lib/python3.7/dist-packages (from importlib-metadata->transformers) (3.6.0)\n",
            "Requirement already satisfied: chardet<4,>=3.0.2 in /usr/local/lib/python3.7/dist-packages (from requests->transformers) (3.0.4)\n",
            "Requirement already satisfied: idna<3,>=2.5 in /usr/local/lib/python3.7/dist-packages (from requests->transformers) (2.10)\n",
            "Requirement already satisfied: urllib3!=1.25.0,!=1.25.1,<1.26,>=1.21.1 in /usr/local/lib/python3.7/dist-packages (from requests->transformers) (1.24.3)\n",
            "Requirement already satisfied: certifi>=2017.4.17 in /usr/local/lib/python3.7/dist-packages (from requests->transformers) (2021.10.8)\n",
            "Requirement already satisfied: six in /usr/local/lib/python3.7/dist-packages (from sacremoses->transformers) (1.15.0)\n",
            "Requirement already satisfied: joblib in /usr/local/lib/python3.7/dist-packages (from sacremoses->transformers) (1.1.0)\n",
            "Requirement already satisfied: click in /usr/local/lib/python3.7/dist-packages (from sacremoses->transformers) (7.1.2)\n",
            "Installing collected packages: pyyaml, tokenizers, sacremoses, huggingface-hub, transformers\n",
            "  Attempting uninstall: pyyaml\n",
            "    Found existing installation: PyYAML 3.13\n",
            "    Uninstalling PyYAML-3.13:\n",
            "      Successfully uninstalled PyYAML-3.13\n",
            "Successfully installed huggingface-hub-0.1.2 pyyaml-6.0 sacremoses-0.0.46 tokenizers-0.10.3 transformers-4.12.3\n"
          ]
        }
      ]
    },
    {
      "cell_type": "code",
      "metadata": {
        "colab": {
          "base_uri": "https://localhost:8080/"
        },
        "id": "DG7yrf4Zsspa",
        "outputId": "25dcf2f5-7ff6-4fac-8dee-350dcd6b1e7f"
      },
      "source": [
        "pip install tensorflow_addons"
      ],
      "execution_count": 4,
      "outputs": [
        {
          "output_type": "stream",
          "name": "stdout",
          "text": [
            "Collecting tensorflow_addons\n",
            "  Downloading tensorflow_addons-0.14.0-cp37-cp37m-manylinux_2_12_x86_64.manylinux2010_x86_64.whl (1.1 MB)\n",
            "\u001b[K     |████████████████████████████████| 1.1 MB 5.2 MB/s \n",
            "\u001b[?25hRequirement already satisfied: typeguard>=2.7 in /usr/local/lib/python3.7/dist-packages (from tensorflow_addons) (2.7.1)\n",
            "Installing collected packages: tensorflow-addons\n",
            "Successfully installed tensorflow-addons-0.14.0\n"
          ]
        }
      ]
    },
    {
      "cell_type": "code",
      "metadata": {
        "id": "NkBuwzsjsyzb",
        "colab": {
          "base_uri": "https://localhost:8080/"
        },
        "outputId": "3ae47ee6-f561-4c04-8ddc-44e3fc4cda54"
      },
      "source": [
        "import pandas as pd\n",
        "from transformers import TFBertModel\n",
        "seed_value = 42\n",
        "import os\n",
        "os.environ['PYTHONHASHSEED'] = str(seed_value)\n",
        "import random\n",
        "random.seed(seed_value)\n",
        "import numpy as np\n",
        "np.random.seed(seed_value)\n",
        "np.set_printoptions(precision=2)\n",
        "import tensorflow as tf\n",
        "tf.random.set_seed(seed_value)\n",
        "import tensorflow_addons as tfa\n",
        "import keras\n",
        "import keras.layers as layers\n",
        "from keras.callbacks import ModelCheckpoint\n",
        "import transformers\n",
        "from tqdm import tqdm\n",
        "import seaborn as sns\n",
        "from transformers import BertTokenizer"
      ],
      "execution_count": 5,
      "outputs": [
        {
          "output_type": "stream",
          "name": "stderr",
          "text": [
            "/usr/local/lib/python3.7/dist-packages/tensorflow_addons/utils/ensure_tf_install.py:67: UserWarning: Tensorflow Addons supports using Python ops for all Tensorflow versions above or equal to 2.4.0 and strictly below 2.7.0 (nightly versions are not supported). \n",
            " The versions of TensorFlow you are currently using is 2.7.0 and is not supported. \n",
            "Some things might work, some things might not.\n",
            "If you were to encounter a bug, do not file an issue.\n",
            "If you want to make sure you're using a tested and supported configuration, either change the TensorFlow version or the TensorFlow Addons's version. \n",
            "You can find the compatibility matrix in TensorFlow Addon's readme:\n",
            "https://github.com/tensorflow/addons\n",
            "  UserWarning,\n"
          ]
        }
      ]
    },
    {
      "cell_type": "markdown",
      "metadata": {
        "id": "0S3Y6sGdItE1"
      },
      "source": [
        "# BERT text preprocessing"
      ]
    },
    {
      "cell_type": "code",
      "metadata": {
        "id": "vWHJz5HTI-Wo"
      },
      "source": [
        "#fn takes 1 input which is free text and returns tokenized form for model inference\n",
        "def prepare_bert_input(sentences, seq_len = 150, bert_name = 'bert-base-uncased'):\n",
        "    tokenizer = BertTokenizer.from_pretrained(bert_name)\n",
        "    encodings = tokenizer(sentences.tolist(), truncation=True, padding='max_length',\n",
        "                                max_length=seq_len)\n",
        "    input = [np.array(encodings[\"input_ids\"]), np.array(encodings[\"token_type_ids\"]),\n",
        "               np.array(encodings[\"attention_mask\"])]\n",
        "    return input"
      ],
      "execution_count": 6,
      "outputs": []
    },
    {
      "cell_type": "markdown",
      "metadata": {
        "id": "YsUsHI2ys-BF"
      },
      "source": [
        "# Load BERT model + weights + classes"
      ]
    },
    {
      "cell_type": "code",
      "metadata": {
        "id": "FbeS-qXTPQX5"
      },
      "source": [
        "def create_model(MAX_SEQ_LEN = 150, BERT_NAME = 'bert-base-uncased', N_CLASSES = 41):\n",
        "    input_ids = layers.Input(shape=(MAX_SEQ_LEN,), dtype=tf.int32, name='input_ids')\n",
        "    input_type = layers.Input(shape=(MAX_SEQ_LEN,), dtype=tf.int32, name='token_type_ids')\n",
        "    input_mask = layers.Input(shape=(MAX_SEQ_LEN,), dtype=tf.int32, name='attention_mask')\n",
        "    inputs = [input_ids, input_type, input_mask]\n",
        "    bert = TFBertModel.from_pretrained(BERT_NAME)\n",
        "    bert_outputs = bert(inputs)\n",
        "    last_hidden_states = bert_outputs.last_hidden_state\n",
        "    avg = layers.GlobalAveragePooling1D()(last_hidden_states)\n",
        "    output = layers.Dense(N_CLASSES, activation=\"sigmoid\")(avg)\n",
        "    model = keras.Model(inputs=inputs, outputs=output)\n",
        "    model.summary()\n",
        "    return model"
      ],
      "execution_count": 7,
      "outputs": []
    },
    {
      "cell_type": "code",
      "metadata": {
        "id": "NZXUMQiLtBrB"
      },
      "source": [
        "#fn to load model and weights\n",
        "def load_model(weights):\n",
        "    model = create_model()\n",
        "    loss = keras.losses.BinaryCrossentropy()\n",
        "    best_weights_file = weights\n",
        "    model.load_weights(best_weights_file)\n",
        "    opt = tfa.optimizers.RectifiedAdam(learning_rate=3e-5)\n",
        "    model.compile(loss=loss, optimizer=opt, metrics=[keras.metrics.AUC(multi_label=True, curve=\"ROC\", num_labels= 41),\n",
        "                                                     keras.metrics.BinaryAccuracy()])\n",
        "    return model"
      ],
      "execution_count": 8,
      "outputs": []
    },
    {
      "cell_type": "code",
      "metadata": {
        "id": "ZE6KTIh1uAnD"
      },
      "source": [
        "#place filepath for weights file below\n",
        "weights = \"bert_symptom_weights.h5\" "
      ],
      "execution_count": 9,
      "outputs": []
    },
    {
      "cell_type": "code",
      "metadata": {
        "colab": {
          "base_uri": "https://localhost:8080/"
        },
        "id": "qWTvbwE1KU9R",
        "outputId": "66dac7db-d1fc-40b3-cda9-16d87f506a94"
      },
      "source": [
        "# Unpickling and load classes list\n",
        "import pickle\n",
        "#place filepath for classes_41 file below\n",
        "with open(\"/content/drive/MyDrive/coviddata/classes_41.txt\", \"rb\") as fp: \n",
        "  classes_41 = pickle.load(fp)\n",
        "print('classes_41 txt loaded!')"
      ],
      "execution_count": 10,
      "outputs": [
        {
          "output_type": "stream",
          "name": "stdout",
          "text": [
            "classes_41 txt loaded!\n"
          ]
        }
      ]
    },
    {
      "cell_type": "code",
      "metadata": {
        "colab": {
          "base_uri": "https://localhost:8080/",
          "height": 744,
          "referenced_widgets": [
            "7b1753a4aeaa458089cb56380372cfd3",
            "28826b88cb0241cf8cca3ae7f3131669",
            "bcd4aaa85276499395e8b362cd06e095",
            "9484e9764b1c429898c51b6248d1e14f",
            "49d421e1368d4c8e9f45161359f28891",
            "8ca6f191bad747d492c4126ef8f92028",
            "44123c63c9ab4f29aafbefc89f029d43",
            "c5e7ba6378a24fc2b5d2541cca0dbb48",
            "27ac49dfcd2543549c58e3840311592b",
            "a79f3f661d98445ea5cfc2898f5c92ff",
            "3f85c31bdd284f8398381d029c838b8e",
            "ce6c2ad1ab0d4e4c9c69413c1fa589ef",
            "c492a3e713914d548990dd309367dfc4",
            "3aabad50bf7b4485bafe278f4b971610",
            "972554ae890f485fb22c8078ed7dd2b0",
            "24d581be16314177b7ce9bf21030fe4d",
            "13da401311324860b2f3f14fdbc0a2a2",
            "5e3832af0c854830bd7dfc9f1b3757e8",
            "e46ed70a86c74926b93f06cb744bd8b4",
            "e48a512be45f4887b6049f223a17fa3a",
            "0eecb925146742139be5157393df0d95",
            "165370874bc8438aab35b68117fc3188"
          ]
        },
        "id": "RT_boHSauCzX",
        "outputId": "530afc76-83af-414c-8aa2-bd2ff0a6a632"
      },
      "source": [
        "model = load_model(weights)"
      ],
      "execution_count": 11,
      "outputs": [
        {
          "output_type": "display_data",
          "data": {
            "application/vnd.jupyter.widget-view+json": {
              "model_id": "7b1753a4aeaa458089cb56380372cfd3",
              "version_minor": 0,
              "version_major": 2
            },
            "text/plain": [
              "Downloading:   0%|          | 0.00/570 [00:00<?, ?B/s]"
            ]
          },
          "metadata": {}
        },
        {
          "output_type": "display_data",
          "data": {
            "application/vnd.jupyter.widget-view+json": {
              "model_id": "ce6c2ad1ab0d4e4c9c69413c1fa589ef",
              "version_minor": 0,
              "version_major": 2
            },
            "text/plain": [
              "Downloading:   0%|          | 0.00/511M [00:00<?, ?B/s]"
            ]
          },
          "metadata": {}
        },
        {
          "output_type": "stream",
          "name": "stderr",
          "text": [
            "Some layers from the model checkpoint at bert-base-uncased were not used when initializing TFBertModel: ['nsp___cls', 'mlm___cls']\n",
            "- This IS expected if you are initializing TFBertModel from the checkpoint of a model trained on another task or with another architecture (e.g. initializing a BertForSequenceClassification model from a BertForPreTraining model).\n",
            "- This IS NOT expected if you are initializing TFBertModel from the checkpoint of a model that you expect to be exactly identical (initializing a BertForSequenceClassification model from a BertForSequenceClassification model).\n",
            "All the layers of TFBertModel were initialized from the model checkpoint at bert-base-uncased.\n",
            "If your task is similar to the task the model of the checkpoint was trained on, you can already use TFBertModel for predictions without further training.\n"
          ]
        },
        {
          "output_type": "stream",
          "name": "stdout",
          "text": [
            "Model: \"model\"\n",
            "__________________________________________________________________________________________________\n",
            " Layer (type)                   Output Shape         Param #     Connected to                     \n",
            "==================================================================================================\n",
            " input_ids (InputLayer)         [(None, 150)]        0           []                               \n",
            "                                                                                                  \n",
            " token_type_ids (InputLayer)    [(None, 150)]        0           []                               \n",
            "                                                                                                  \n",
            " attention_mask (InputLayer)    [(None, 150)]        0           []                               \n",
            "                                                                                                  \n",
            " tf_bert_model (TFBertModel)    TFBaseModelOutputWi  109482240   ['input_ids[0][0]',              \n",
            "                                thPoolingAndCrossAt               'token_type_ids[0][0]',         \n",
            "                                tentions(last_hidde               'attention_mask[0][0]']         \n",
            "                                n_state=(None, 150,                                               \n",
            "                                 768),                                                            \n",
            "                                 pooler_output=(Non                                               \n",
            "                                e, 768),                                                          \n",
            "                                 past_key_values=No                                               \n",
            "                                ne, hidden_states=N                                               \n",
            "                                one, attentions=Non                                               \n",
            "                                e, cross_attentions                                               \n",
            "                                =None)                                                            \n",
            "                                                                                                  \n",
            " global_average_pooling1d (Glob  (None, 768)         0           ['tf_bert_model[0][0]']          \n",
            " alAveragePooling1D)                                                                              \n",
            "                                                                                                  \n",
            " dense (Dense)                  (None, 41)           31529       ['global_average_pooling1d[0][0]'\n",
            "                                                                 ]                                \n",
            "                                                                                                  \n",
            "==================================================================================================\n",
            "Total params: 109,513,769\n",
            "Trainable params: 109,513,769\n",
            "Non-trainable params: 0\n",
            "__________________________________________________________________________________________________\n"
          ]
        }
      ]
    },
    {
      "cell_type": "markdown",
      "metadata": {
        "id": "X5-vYzfDKE4c"
      },
      "source": [
        "# Inference"
      ]
    },
    {
      "cell_type": "code",
      "metadata": {
        "colab": {
          "base_uri": "https://localhost:8080/"
        },
        "id": "QhlOVWGkJv-f",
        "outputId": "9e907e1d-c86f-45ad-e890-c9f88eedc67e"
      },
      "source": [
        "#place user input into input1,  can add on other inputs as input2, etc.\n",
        "input1 = 'Had my blood taken recently, vomitted a lot in the last few days and am dizzy.'\n",
        "\n",
        "sentences = np.asarray([input1])\n",
        "\n",
        "token = prepare_bert_input(sentences)\n",
        "prediction = model.predict(token)\n",
        "prediction"
      ],
      "execution_count": 51,
      "outputs": [
        {
          "output_type": "execute_result",
          "data": {
            "text/plain": [
              "array([[0.01, 0.02, 0.  , 0.02, 0.  , 0.  , 0.38, 0.07, 0.03, 0.33, 0.03,\n",
              "        0.99, 0.01, 0.82, 0.01, 0.  , 0.04, 0.19, 0.03, 0.01, 0.  , 0.01,\n",
              "        0.01, 0.  , 0.  , 0.01, 0.01, 0.  , 0.03, 0.  , 0.03, 0.01, 0.02,\n",
              "        0.01, 0.01, 0.  , 0.02, 0.01, 0.02, 0.01, 0.02]], dtype=float32)"
            ]
          },
          "metadata": {},
          "execution_count": 51
        }
      ]
    },
    {
      "cell_type": "code",
      "metadata": {
        "colab": {
          "base_uri": "https://localhost:8080/"
        },
        "id": "5JMSQ2Ghk014",
        "outputId": "5b39c11b-7b36-42d6-972e-b704ad311fa3"
      },
      "source": [
        "symptomlist = []\n",
        "# report n number of closest matching symptoms, set to 4\n",
        "topn = 4\n",
        "for sentence, pred in zip(sentences, prediction):\n",
        "    pred = pred.tolist()\n",
        "    index = np.argsort(pred)\n",
        "    index = list(index[-topn:])\n",
        "    for i in index:\n",
        "      symptom = classes_41[i]\n",
        "      symptomlist.append(symptom)\n",
        "\n",
        "\n",
        "symptomlist"
      ],
      "execution_count": 52,
      "outputs": [
        {
          "output_type": "execute_result",
          "data": {
            "text/plain": [
              "['SYMPTOMScomputerised tomogram',\n",
              " 'SYMPTOMSblood test',\n",
              " 'SYMPTOMSvomiting',\n",
              " 'SYMPTOMSdizziness']"
            ]
          },
          "metadata": {},
          "execution_count": 52
        }
      ]
    },
    {
      "cell_type": "code",
      "metadata": {
        "colab": {
          "base_uri": "https://localhost:8080/"
        },
        "id": "9p_QaRAwS2gM",
        "outputId": "66500109-8bd2-4c82-8892-3399a73eb7bb"
      },
      "source": [
        "symptomlist = []\n",
        "# report symptoms with probability above 0.3\n",
        "thresh = 0.2\n",
        "\n",
        "for sentence, pred in zip(sentences, prediction):\n",
        "    pred = pred.tolist()\n",
        "    for score in pred:\n",
        "      if score>thresh:\n",
        "        i = pred.index(score)\n",
        "        symptom = classes_41[i]\n",
        "        symptomlist.append(symptom)\n",
        "\n",
        "\n",
        "symptomlist"
      ],
      "execution_count": 53,
      "outputs": [
        {
          "output_type": "execute_result",
          "data": {
            "text/plain": [
              "['SYMPTOMSblood test',\n",
              " 'SYMPTOMScomputerised tomogram',\n",
              " 'SYMPTOMSdizziness',\n",
              " 'SYMPTOMSvomiting']"
            ]
          },
          "metadata": {},
          "execution_count": 53
        }
      ]
    },
    {
      "cell_type": "code",
      "metadata": {
        "colab": {
          "base_uri": "https://localhost:8080/"
        },
        "id": "oPm9RQM-VUnY",
        "outputId": "e5b8b817-793e-46e7-a774-55555ce632a1"
      },
      "source": [
        "#place user input into input1,  can add on other inputs as input2, etc.\n",
        "input2 = 'I am having a headache.'\n",
        "\n",
        "sentences = np.asarray([input2])\n",
        "\n",
        "token = prepare_bert_input(sentences)\n",
        "prediction = model.predict(token)\n",
        "prediction"
      ],
      "execution_count": 54,
      "outputs": [
        {
          "output_type": "execute_result",
          "data": {
            "text/plain": [
              "array([[0.02, 0.01, 0.  , 0.89, 0.01, 0.01, 0.08, 0.03, 0.01, 0.19, 0.05,\n",
              "        0.01, 0.01, 0.01, 0.  , 0.01, 0.01, 0.06, 0.03, 0.  , 0.  , 0.02,\n",
              "        0.03, 0.05, 0.01, 0.05, 0.05, 0.01, 0.1 , 0.01, 0.02, 0.05, 0.01,\n",
              "        0.05, 0.02, 0.  , 0.09, 0.02, 0.04, 0.01, 0.01]], dtype=float32)"
            ]
          },
          "metadata": {},
          "execution_count": 54
        }
      ]
    },
    {
      "cell_type": "code",
      "metadata": {
        "id": "Hukw9nv2VdlU"
      },
      "source": [
        "symptomlist = []\n",
        "# report symptoms with probability above 0.5\n",
        "thresh = 0.3\n",
        "\n",
        "for sentence, pred in zip(sentences, prediction):\n",
        "    pred = pred.tolist()\n",
        "    for score in pred:\n",
        "      if score>thresh:\n",
        "        i = pred.index(score)\n",
        "        symptom = classes_41[i]\n",
        "        symptomlist.append(symptom)\n",
        "\n",
        "\n",
        "symptomlist"
      ],
      "execution_count": 55,
      "outputs": []
    },
    {
      "cell_type": "code",
      "metadata": {
        "colab": {
          "base_uri": "https://localhost:8080/"
        },
        "id": "86-j6jttKG-5",
        "outputId": "73ecc7c8-05ba-4a5d-a659-73ee19226566"
      },
      "source": [
        "''''\n",
        "symptomlist = []\n",
        "for sentence, pred in zip(sentences, prediction):\n",
        "    mask = (pred > 0.35).astype(bool)\n",
        "    print(mask)\n",
        "    symptom = list(classes_41[mask]) if any(mask) else \"SYMPTOMSnull\"\n",
        "    symptomlist.append(symptom)\n",
        "\n",
        "symptomlist\n",
        "''''"
      ],
      "execution_count": null,
      "outputs": [
        {
          "name": "stdout",
          "output_type": "stream",
          "text": [
            "[False False False False False False False False False False False False\n",
            " False False False False False False False False False  True  True False\n",
            " False False False False False False False False False False False False\n",
            " False False False False False]\n"
          ]
        },
        {
          "data": {
            "text/plain": [
              "[['SYMPTOMSinjection site pain', 'SYMPTOMSarthralgia']]"
            ]
          },
          "execution_count": 164,
          "metadata": {},
          "output_type": "execute_result"
        }
      ]
    }
  ]
}